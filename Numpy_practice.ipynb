{
 "cells": [
  {
   "cell_type": "markdown",
   "id": "c327b803",
   "metadata": {},
   "source": [
    "#### 1. Converting List to Array"
   ]
  },
  {
   "cell_type": "code",
   "execution_count": 57,
   "id": "cf7c8104",
   "metadata": {},
   "outputs": [
    {
     "name": "stdout",
     "output_type": "stream",
     "text": [
      "<class 'list'>\n",
      "[1, 2, 3, 4]\n",
      "<class 'numpy.ndarray'>\n",
      "[[1 2 3 4]]\n"
     ]
    }
   ],
   "source": [
    "import numpy as np\n",
    "l=[1,2,3,4]\n",
    "print(type(l))\n",
    "print(l)\n",
    "arr=np.array(l, ndmin=2)\n",
    "print(type(arr))\n",
    "print(arr)"
   ]
  },
  {
   "cell_type": "markdown",
   "id": "2202a8bf",
   "metadata": {},
   "source": [
    "#### 2. Arranging function\n",
    "\n",
    "The arrange(start,stop, step, dtype) return an array with evenly spaced elements."
   ]
  },
  {
   "cell_type": "code",
   "execution_count": 58,
   "id": "f4745f9a",
   "metadata": {},
   "outputs": [
    {
     "data": {
      "text/plain": [
       "array([ 1,  3,  5,  7,  9, 11, 13, 15, 17, 19])"
      ]
     },
     "execution_count": 58,
     "metadata": {},
     "output_type": "execute_result"
    }
   ],
   "source": [
    "arr=np.arange(1,20,2)\n",
    "arr"
   ]
  },
  {
   "cell_type": "markdown",
   "id": "0f0ae6ca",
   "metadata": {},
   "source": [
    "#### 3. Multi Dimensional Arrya"
   ]
  },
  {
   "cell_type": "code",
   "execution_count": 59,
   "id": "18d3fe6f",
   "metadata": {},
   "outputs": [
    {
     "data": {
      "text/plain": [
       "array([[1, 2, 3],\n",
       "       [3, 4, 5],\n",
       "       [6, 7, 8]])"
      ]
     },
     "execution_count": 59,
     "metadata": {},
     "output_type": "execute_result"
    }
   ],
   "source": [
    "arr=np.array([[1,2,3],[3,4,5],[6,7,8]])\n",
    "arr"
   ]
  },
  {
   "cell_type": "markdown",
   "id": "72ca8c47",
   "metadata": {},
   "source": [
    "#### 4. Size Function:\n",
    "It returns the number of elements along with given axis"
   ]
  },
  {
   "cell_type": "code",
   "execution_count": 60,
   "id": "9b300954",
   "metadata": {},
   "outputs": [
    {
     "name": "stdout",
     "output_type": "stream",
     "text": [
      "Total: 9\n",
      "Rows: 3\n",
      "Colums: 3\n"
     ]
    }
   ],
   "source": [
    "print('Total:',arr.size)\n",
    "print('Rows:',np.size(arr,0))\n",
    "print('Colums:',np.size(arr,1))"
   ]
  },
  {
   "cell_type": "markdown",
   "id": "58f18f39",
   "metadata": {},
   "source": [
    "#### 5. Shape Function\n",
    "It reutrns the shape or number of rows and columns of the matrix"
   ]
  },
  {
   "cell_type": "code",
   "execution_count": 61,
   "id": "e74fba51",
   "metadata": {},
   "outputs": [
    {
     "name": "stdout",
     "output_type": "stream",
     "text": [
      "(3, 3)\n"
     ]
    }
   ],
   "source": [
    "print(np.shape(arr))"
   ]
  },
  {
   "cell_type": "markdown",
   "id": "540cd0b8",
   "metadata": {},
   "source": [
    "#### 6. dtype Function:\n",
    "This data type object informs us about the lay out of the array \n",
    "* The type of the data type\n",
    "* Size of the data\n",
    "* Byte of the data\n",
    "* if the data type is a sub array, what is the shape and data type?"
   ]
  },
  {
   "cell_type": "code",
   "execution_count": 62,
   "id": "591403be",
   "metadata": {},
   "outputs": [
    {
     "name": "stdout",
     "output_type": "stream",
     "text": [
      "int64\n",
      "float64\n"
     ]
    }
   ],
   "source": [
    "print(arr.dtype)\n",
    "arr2=np.array([1.1,2.4,3.3])\n",
    "print(arr2.dtype)"
   ]
  },
  {
   "cell_type": "markdown",
   "id": "dc4ed87f",
   "metadata": {},
   "source": [
    "#### 7. ndim function:\n",
    "It return the number of dimensions of the array"
   ]
  },
  {
   "cell_type": "code",
   "execution_count": 63,
   "id": "21fee0f5",
   "metadata": {},
   "outputs": [
    {
     "name": "stdout",
     "output_type": "stream",
     "text": [
      "1\n",
      "[[[1 2 3 4 5 6 7 8 9]]]\n",
      "3\n"
     ]
    }
   ],
   "source": [
    "arr1=np.array([1,2,3,4,5,6,7,8,9])\n",
    "print(np.ndim(arr1))\n",
    "arr2=np.array(arr1,ndmin=3)\n",
    "print(arr2)\n",
    "print(np.ndim(arr2))"
   ]
  },
  {
   "cell_type": "markdown",
   "id": "7876d370",
   "metadata": {},
   "source": [
    "#### 8. Zeros Function:\n",
    "Returns a new array of given shape with zeros"
   ]
  },
  {
   "cell_type": "code",
   "execution_count": 64,
   "id": "5bc9bb26",
   "metadata": {},
   "outputs": [
    {
     "name": "stdout",
     "output_type": "stream",
     "text": [
      "[[0 0 0 0 0]\n",
      " [0 0 0 0 0]\n",
      " [0 0 0 0 0]]\n"
     ]
    }
   ],
   "source": [
    "arr3=np.zeros(shape=(3,5),dtype=int)\n",
    "print(arr3)"
   ]
  },
  {
   "cell_type": "markdown",
   "id": "7ed27292",
   "metadata": {},
   "source": [
    "### 9. Ones Function:\n",
    "Returns a new array of given shape with ones."
   ]
  },
  {
   "cell_type": "code",
   "execution_count": 65,
   "id": "ea35b1d5",
   "metadata": {},
   "outputs": [
    {
     "name": "stdout",
     "output_type": "stream",
     "text": [
      "[[1 1 1 1 1]\n",
      " [1 1 1 1 1]\n",
      " [1 1 1 1 1]\n",
      " [1 1 1 1 1]]\n"
     ]
    }
   ],
   "source": [
    "arr4=np.ones(shape=(4,5),dtype=int)\n",
    "print(arr4)"
   ]
  },
  {
   "cell_type": "markdown",
   "id": "5996be9b",
   "metadata": {},
   "source": [
    "#### 10. Eye Function:\n",
    "The eye tool returns a 2D array with 1's as the diagonal and 0's elsewhere."
   ]
  },
  {
   "cell_type": "code",
   "execution_count": 66,
   "id": "575707ab",
   "metadata": {},
   "outputs": [
    {
     "name": "stdout",
     "output_type": "stream",
     "text": [
      "[[1 0 0 0]\n",
      " [0 1 0 0]\n",
      " [0 0 1 0]\n",
      " [0 0 0 1]]\n"
     ]
    },
    {
     "data": {
      "text/plain": [
       "array([[1, 0, 0, 0],\n",
       "       [0, 1, 0, 0],\n",
       "       [0, 0, 1, 0],\n",
       "       [0, 0, 0, 1]])"
      ]
     },
     "execution_count": 66,
     "metadata": {},
     "output_type": "execute_result"
    }
   ],
   "source": [
    "arr5=np.eye(4,dtype=int)\n",
    "print(arr5)\n",
    "arr5"
   ]
  },
  {
   "cell_type": "markdown",
   "id": "dbb507b0",
   "metadata": {},
   "source": [
    "#### 10. Empty Function:\n",
    "Returns an empty array of given shape and Type(same as zeros function)."
   ]
  },
  {
   "cell_type": "code",
   "execution_count": 67,
   "id": "dddfc29a",
   "metadata": {},
   "outputs": [
    {
     "data": {
      "text/plain": [
       "array([[4647433340469641215,                   0, 4632968654166454728],\n",
       "       [                  0, 4645209688153627033, 4629942798166815175],\n",
       "       [                  0,                   0, 4607182418800017408]])"
      ]
     },
     "execution_count": 67,
     "metadata": {},
     "output_type": "execute_result"
    }
   ],
   "source": [
    "np.empty(shape=(3,3),dtype=int)"
   ]
  },
  {
   "cell_type": "markdown",
   "id": "df7a7b50",
   "metadata": {},
   "source": [
    "### 11. Random Function:\n",
    "\n",
    "a. numpy.random.rand() function creates an array of specified shape and fill its with random values.\n"
   ]
  },
  {
   "cell_type": "code",
   "execution_count": 68,
   "id": "9b332ff0",
   "metadata": {},
   "outputs": [
    {
     "data": {
      "text/plain": [
       "array([[0.02127149, 0.83153047, 0.59053175],\n",
       "       [0.1377416 , 0.91994574, 0.9758126 ],\n",
       "       [0.22100745, 0.51490654, 0.39918091]])"
      ]
     },
     "execution_count": 68,
     "metadata": {},
     "output_type": "execute_result"
    }
   ],
   "source": [
    "np.random.rand(3,3)"
   ]
  },
  {
   "cell_type": "markdown",
   "id": "d7fec748",
   "metadata": {},
   "source": [
    "b. np.random.randint:\n",
    "It returns an array of specified shape with random integer value"
   ]
  },
  {
   "cell_type": "code",
   "execution_count": 69,
   "id": "6dee524f",
   "metadata": {},
   "outputs": [
    {
     "data": {
      "text/plain": [
       "array([15, 23, 14,  8, 39,  3, 25,  8, 12, 30])"
      ]
     },
     "execution_count": 69,
     "metadata": {},
     "output_type": "execute_result"
    }
   ],
   "source": [
    "np.random.randint(low=3,high=40,size=10)"
   ]
  },
  {
   "cell_type": "markdown",
   "id": "94249365",
   "metadata": {},
   "source": [
    "c) np.random.randn:\n",
    "    The numpy.random.randn() function creates an array of specified shape and fills it with random values as per the normal distribution"
   ]
  },
  {
   "cell_type": "code",
   "execution_count": 70,
   "id": "5d07ef1f",
   "metadata": {},
   "outputs": [
    {
     "data": {
      "image/png": "[encoded data removed]",
      "text/plain": [
       "<Figure size 640x480 with 1 Axes>"
      ]
     },
     "metadata": {},
     "output_type": "display_data"
    }
   ],
   "source": [
    "import matplotlib.pyplot as plt\n",
    "%matplotlib inline\n",
    "plt.hist(np.random.randn(100000),bins=100);"
   ]
  },
  {
   "cell_type": "markdown",
   "id": "0edcca60",
   "metadata": {},
   "source": [
    "##### 12. Reshape Function: \n",
    "Used to reshape existing array."
   ]
  },
  {
   "cell_type": "code",
   "execution_count": 71,
   "id": "ae4d590a",
   "metadata": {},
   "outputs": [
    {
     "data": {
      "text/plain": [
       "array([[ 3, 14,  2,  3,  1, 12],\n",
       "       [10,  8,  3,  3, 13, 14]])"
      ]
     },
     "execution_count": 71,
     "metadata": {},
     "output_type": "execute_result"
    }
   ],
   "source": [
    "arr=np.random.randint(1,15,(3,4))\n",
    "arr\n",
    "np.reshape(arr,(2,6))"
   ]
  },
  {
   "cell_type": "markdown",
   "id": "42b3e62f",
   "metadata": {},
   "source": [
    "##### 13. Linspace Function:\n",
    "The numpy.linspace() Function returns number spaces evenly wrt interval. Similar to numpy.arange() function but instead of step it uses sample number.\n",
    "Parameter:\n",
    "start: start of interval range. By default it is 0\n",
    "stop: end\n",
    "rstep: If True, return (samples, step). By default restep = False\n",
    "num: No.of samples to generate\n",
    "dtype: type of output"
   ]
  },
  {
   "cell_type": "code",
   "execution_count": 72,
   "id": "4ba3ae0c",
   "metadata": {},
   "outputs": [
    {
     "data": {
      "text/plain": [
       "array([ 1.,  4.,  7., 10.])"
      ]
     },
     "execution_count": 72,
     "metadata": {},
     "output_type": "execute_result"
    }
   ],
   "source": [
    "np.linspace(1,10,4)"
   ]
  },
  {
   "cell_type": "markdown",
   "id": "011993b2",
   "metadata": {},
   "source": [
    "#### 14. Flatten Function:\n",
    "    returns the copy of array collapsed into one dimension"
   ]
  },
  {
   "cell_type": "code",
   "execution_count": 73,
   "id": "f95304d4",
   "metadata": {},
   "outputs": [
    {
     "name": "stdout",
     "output_type": "stream",
     "text": [
      "[[12  8 13  6]\n",
      " [ 4 12  5  1]\n",
      " [14  5 12  3]]\n"
     ]
    },
    {
     "data": {
      "text/plain": [
       "array([12,  8, 13,  6,  4, 12,  5,  1, 14,  5, 12,  3])"
      ]
     },
     "execution_count": 73,
     "metadata": {},
     "output_type": "execute_result"
    }
   ],
   "source": [
    "arr3=np.random.randint(1,15,(3,4))\n",
    "print(arr3)\n",
    "arr4=arr3.flatten()\n",
    "arr4"
   ]
  },
  {
   "cell_type": "markdown",
   "id": "d5044c8d",
   "metadata": {},
   "source": [
    "#### 15. Logspace Function:\n",
    "The numpy.logspace() function returns number spaces evenly w.r.t interval on a log scale.\n",
    "\n",
    "Parameters :\n",
    "\n",
    "-> start : [float] start(base ** start) of interval range.\n",
    "-> stop : [float] end(base ** stop) of interval range\n",
    "-> endpoint : [boolean, optional]If True, stop is the last sample. By default, True\n",
    "-> num : [int, optional] No. of samples to generate\n",
    "-> base : [float, optional] Base of log scale. By default, equals 10.0\n",
    "-> dtype : type of output array"
   ]
  },
  {
   "cell_type": "code",
   "execution_count": 76,
   "id": "fc8ea9e5",
   "metadata": {},
   "outputs": [
    {
     "name": "stdout",
     "output_type": "stream",
     "text": [
      "[  100.           166.81005372   278.25594022   464.15888336\n",
      "   774.26368268  1291.54966501  2154.43469003  3593.8136638\n",
      "  5994.84250319 10000.        ]\n",
      "--------------------\n",
      "[ 4.          4.66611616  5.44316     6.34960421  7.4069977   8.64047791\n",
      " 10.0793684  11.75787594 13.71590373 16.        ]\n"
     ]
    }
   ],
   "source": [
    "print(np.logspace(2,4,10))\n",
    "print('-'*20)\n",
    "print(np.logspace(2,4,10, base = 2))"
   ]
  },
  {
   "cell_type": "markdown",
   "id": "44e98104",
   "metadata": {},
   "source": [
    "#### 16. Copy Function:\n",
    "Used to duplicate the array with different id"
   ]
  },
  {
   "cell_type": "code",
   "execution_count": 79,
   "id": "7a85ee25",
   "metadata": {},
   "outputs": [
    {
     "name": "stdout",
     "output_type": "stream",
     "text": [
      "[ 3  2 12  8  1  3  4  9  7  9] 140189137770928\n",
      "[ 3  2 12  8  1  3  4  9  7  9] 140189214199504\n"
     ]
    }
   ],
   "source": [
    "arr1=np.random.randint(1,15,10)\n",
    "arr1\n",
    "arr2=np.copy(arr1)\n",
    "print(arr1,id(arr1))\n",
    "print(arr2,id(arr2))"
   ]
  },
  {
   "cell_type": "markdown",
   "id": "4e586147",
   "metadata": {},
   "source": [
    "#### max(), min() and sum() functions"
   ]
  },
  {
   "cell_type": "code",
   "execution_count": 93,
   "id": "e297e040",
   "metadata": {},
   "outputs": [
    {
     "name": "stdout",
     "output_type": "stream",
     "text": [
      "[[45 32 23 31]\n",
      " [15 35 37 16]\n",
      " [30 32 18 43]]\n",
      "Maximum: 45\n",
      "Minimum: 15\n",
      "Sum: 357\n",
      "----------------------------------------\n",
      "Column wise\n",
      "Maximum: [45 35 37 43]\n",
      "Minimum: [15 32 18 16]\n",
      "Sum: [90 99 78 90]\n",
      "----------------------------------------\n",
      "Column wise\n",
      "Maximum: [45 37 43]\n",
      "Minimum: [23 15 18]\n",
      "Sum: [131 103 123]\n"
     ]
    }
   ],
   "source": [
    "arr1=np.random.randint(10,50,12)\n",
    "arr1\n",
    "arr2=np.reshape(arr1,(3,4))\n",
    "print(arr2)\n",
    "print(\"Maximum:\",arr2.max())\n",
    "print(\"Minimum:\",arr2.min())\n",
    "print(\"Sum:\",arr2.sum())\n",
    "\n",
    "print(\"--\"*20)\n",
    "print(\"Column wise\")\n",
    "# Rowise\n",
    "print(\"Maximum:\",arr2.max(axis=0))\n",
    "print(\"Minimum:\",arr2.min(axis=0))\n",
    "print(\"Sum:\",arr2.sum(axis=0))\n",
    "\n",
    "print(\"--\"*20)\n",
    "print(\"Column wise\")\n",
    "# Rowise\n",
    "print(\"Maximum:\",arr2.max(axis=1))\n",
    "print(\"Minimum:\",arr2.min(axis=1))\n",
    "print(\"Sum:\",arr2.sum(axis=1))\n",
    "\n"
   ]
  },
  {
   "cell_type": "markdown",
   "id": "8d3f7d79",
   "metadata": {},
   "source": [
    "### 18. Seed Function:\n",
    "this is used to generate pseudo-random numbers. Numbers once generated will not change"
   ]
  },
  {
   "cell_type": "code",
   "execution_count": 100,
   "id": "d1612d9a",
   "metadata": {},
   "outputs": [
    {
     "data": {
      "text/plain": [
       "array([[9, 4, 9, 9, 1],\n",
       "       [6, 4, 6, 8, 7],\n",
       "       [1, 5, 8, 9, 2]])"
      ]
     },
     "execution_count": 100,
     "metadata": {},
     "output_type": "execute_result"
    }
   ],
   "source": [
    "np.random.seed(3)\n",
    "\n",
    "arr = np.random.randint(1,10,(3,5))\n",
    "\n",
    "arr"
   ]
  },
  {
   "cell_type": "markdown",
   "id": "0d0803a2",
   "metadata": {},
   "source": [
    "#### 19. Sorting Function\n",
    "numpy.sort(): This function returns sorted copy of an array.\n",
    "Parameters:\n",
    "arr: Array to be sorted.\n",
    "axis: Axis which need to be sorted \n",
    "order: Which order\n",
    "kind: Sorting algo [ quick sort(default). merge sort, heapsort]"
   ]
  },
  {
   "cell_type": "code",
   "execution_count": 106,
   "id": "0b64c855",
   "metadata": {},
   "outputs": [
    {
     "name": "stdout",
     "output_type": "stream",
     "text": [
      "[[46 36 20]\n",
      " [46 37 31]\n",
      " [49 39 42]]\n",
      "--------------------\n",
      "sorting rows:\n",
      "[[46 36 20]\n",
      " [46 37 31]\n",
      " [49 39 42]]\n",
      "--------------------\n",
      "sorting colums:\n",
      "[[46 36 20]\n",
      " [46 37 31]\n",
      " [49 39 42]]\n",
      "--------------------\n",
      "Merge sort:\n",
      "[[20 36 46]\n",
      " [31 37 46]\n",
      " [39 42 49]]\n"
     ]
    }
   ],
   "source": [
    "arr1= np.random.randint(10,50,(3,3))\n",
    "print(arr1)\n",
    "print(\"-\"*20)\n",
    "print(\"sorting rows:\")\n",
    "print(np.sort(arr1,axis=0))\n",
    "\n",
    "print(\"-\"*20)\n",
    "print(\"sorting colums:\")\n",
    "print(np.sort(arr1,axis=0))\n",
    "\n",
    "print(\"-\"*20)\n",
    "print(\"Merge sort:\")\n",
    "print(np.sort(arr1,axis=1, kind='mergesort'))\n"
   ]
  },
  {
   "cell_type": "markdown",
   "id": "8ff8d8c3",
   "metadata": {},
   "source": [
    "####  20. Math operations"
   ]
  },
  {
   "cell_type": "code",
   "execution_count": 163,
   "id": "7289e7d3",
   "metadata": {},
   "outputs": [
    {
     "name": "stdout",
     "output_type": "stream",
     "text": [
      "[[9 4 9 9 1]\n",
      " [6 4 6 8 7]\n",
      " [1 5 8 9 2]]\n",
      "--------------------\n",
      "Add\n",
      "[[10  5 10 10  2]\n",
      " [ 7  5  7  9  8]\n",
      " [ 2  6  9 10  3]]\n",
      "--------------------\n",
      "Minus\n",
      "[[8 3 8 8 0]\n",
      " [5 3 5 7 6]\n",
      " [0 4 7 8 1]]\n",
      "--------------------\n",
      "Multiplication\n",
      "[[18  8 18 18  2]\n",
      " [12  8 12 16 14]\n",
      " [ 2 10 16 18  4]]\n",
      "--------------------\n",
      "Division\n",
      "[[4.5 2.  4.5 4.5 0.5]\n",
      " [3.  2.  3.  4.  3.5]\n",
      " [0.5 2.5 4.  4.5 1. ]]\n",
      "--------------------\n",
      "Power\n",
      "[[81 16 81 81  1]\n",
      " [36 16 36 64 49]\n",
      " [ 1 25 64 81  4]]\n"
     ]
    }
   ],
   "source": [
    "np.random.seed(3)\n",
    "arr1=np.random.randint(1,10,(3,5))\n",
    "print(arr1)\n",
    "\n",
    "print('-'*20)\n",
    "print('Add')\n",
    "print(arr1+1)\n",
    "\n",
    "print('-'*20)\n",
    "print('Minus')\n",
    "print(arr1-1)\n",
    "\n",
    "print('-'*20)\n",
    "print('Multiplication')\n",
    "print(arr1*2)\n",
    "\n",
    "print('-'*20)\n",
    "print('Division')\n",
    "print(arr1/2)\n",
    "\n",
    "print('-'*20)\n",
    "print('Power')\n",
    "print(arr1**2)"
   ]
  },
  {
   "cell_type": "markdown",
   "id": "2ca0d271",
   "metadata": {},
   "source": [
    "#### Matrix Multiplication\n",
    "For Matrix Multiplication we either use the\n",
    "\n",
    "dot function or\n",
    "\n",
    "the @ symbol"
   ]
  },
  {
   "cell_type": "code",
   "execution_count": 165,
   "id": "f539ae14",
   "metadata": {},
   "outputs": [
    {
     "name": "stdout",
     "output_type": "stream",
     "text": [
      "[[ 25  78]\n",
      " [ 45 108]]\n",
      "------------\n",
      "[[ 25  78]\n",
      " [ 45 108]]\n"
     ]
    }
   ],
   "source": [
    "np.random.seed(3)\n",
    "\n",
    "arr1 = np.random.randint(1,10,(2,2))\n",
    "arr2 = np.random.randint(1,10,(2,2))\n",
    "\n",
    "print(arr1.dot(arr2))\n",
    "print('-'*12)\n",
    "print(arr1@arr2)"
   ]
  },
  {
   "cell_type": "markdown",
   "id": "8984167b",
   "metadata": {},
   "source": [
    "#### 21. Percentile Function:\n",
    "used to compute the nth percentile of the goven data"
   ]
  },
  {
   "cell_type": "code",
   "execution_count": 170,
   "id": "bfac5556",
   "metadata": {},
   "outputs": [
    {
     "name": "stdout",
     "output_type": "stream",
     "text": [
      "[9 4 9 9 1 6 4 6 8 7]\n",
      "[1 4 4 6 6 7 8 9 9 9]\n",
      "6.5\n"
     ]
    }
   ],
   "source": [
    "np.random.seed(3)\n",
    "arr1=np.random.randint(1,10,10)\n",
    "print(arr1)\n",
    "arr=np.sort(arr1)\n",
    "print(arr)\n",
    "print(np.percentile(arr,50))"
   ]
  },
  {
   "cell_type": "markdown",
   "id": "1c5d8d9f",
   "metadata": {},
   "source": [
    "#### 22. Mean, Varaince, Standard Deviation"
   ]
  },
  {
   "cell_type": "code",
   "execution_count": 177,
   "id": "20ccce5e",
   "metadata": {},
   "outputs": [
    {
     "name": "stdout",
     "output_type": "stream",
     "text": [
      "[7 1 5 2 6 2 9 9 8 1]\n",
      "5.0\n",
      "9.6\n",
      "3.0983866769659336\n"
     ]
    }
   ],
   "source": [
    "arr=np.random.randint(1,10,10)\n",
    "print(arr)\n",
    "print(arr.mean())\n",
    "print(arr.var())\n",
    "print(arr.std())"
   ]
  },
  {
   "cell_type": "markdown",
   "id": "c005af67",
   "metadata": {},
   "source": [
    "### 23. Filtering an numpy array"
   ]
  },
  {
   "cell_type": "code",
   "execution_count": 181,
   "id": "9c3f08a6",
   "metadata": {},
   "outputs": [
    {
     "name": "stdout",
     "output_type": "stream",
     "text": [
      "[3 8 4 5 2 7 8 2 1 1]\n",
      "[ True False  True False  True False False  True  True  True]\n",
      "[3 4 2 2 1 1]\n"
     ]
    }
   ],
   "source": [
    "arr=np.random.randint(1,10,10)\n",
    "print(arr)\n",
    "print(arr<5)\n",
    "print(arr[arr<5])"
   ]
  },
  {
   "cell_type": "markdown",
   "id": "dcab7111",
   "metadata": {},
   "source": [
    "### 24. Transposing an array\n",
    "with help of Numpy ndarray.T object, we can make a Transpose of an array having dimension greater than or equal to 2"
   ]
  },
  {
   "cell_type": "code",
   "execution_count": 185,
   "id": "c3fdc1e2",
   "metadata": {},
   "outputs": [
    {
     "name": "stdout",
     "output_type": "stream",
     "text": [
      "[[12  4 18  9  3]\n",
      " [12  5  1 14  8]\n",
      " [ 2  3  3 15 11]]\n",
      "--------------------\n",
      "[[12 12  2]\n",
      " [ 4  5  3]\n",
      " [18  1  3]\n",
      " [ 9 14 15]\n",
      " [ 3  8 11]]\n"
     ]
    }
   ],
   "source": [
    "arr=np.random.randint(1,20,(3,5))\n",
    "print(arr)\n",
    "print('-'*20)\n",
    "print(arr.T)"
   ]
  },
  {
   "cell_type": "markdown",
   "id": "980e1f76",
   "metadata": {},
   "source": [
    "#### 25. Where function\n",
    "The numpy.where() function returns the indices of elements in an input array where the given condition is satisfied.\n",
    "\n",
    "Syntax :numpy.where(condition[, x, y]) Parameters: condition : When True, yield x, otherwise yield y. x, y : Values from which to choose. x, y and condition need to be broadcastable to some shape.\n",
    "\n",
    "Returns: out : [ndarray or tuple of ndarrays] If both x and y are specified, the output array contains elements of x where condition is True, and elements from y elsewhere.\n",
    "\n",
    "If only condition is given, return the tuple condition.nonzero(), the indices where condition is True."
   ]
  },
  {
   "cell_type": "code",
   "execution_count": 191,
   "id": "24dddc16",
   "metadata": {},
   "outputs": [
    {
     "name": "stdout",
     "output_type": "stream",
     "text": [
      "['53' '99' 'even' 'even' '51' '19' '65' 'even' '91' 'even']\n",
      "['odd' 'odd' 'even' 'even' 'odd' 'odd' 'odd' 'even' 'odd' 'even']\n"
     ]
    }
   ],
   "source": [
    "arr=np.random.randint(1,100,10)\n",
    "arr\n",
    "arr1=np.where(arr%2==0,'even',arr)\n",
    "print(arr1)\n",
    "arr1=np.where(arr%2!=0,'odd',arr1)\n",
    "print(arr1)"
   ]
  },
  {
   "cell_type": "markdown",
   "id": "56bfee2a",
   "metadata": {},
   "source": [
    "### 26. Merging Arrays\n",
    "a) Concatenate\n",
    "We can perform the concatenation operation using the concatenate() function. With this function, arrays are concatenated either row-wise or column-wise, given that they have equal rows or columns respectively. Column-wise concatenation can be done by equating axis to 1 as an argument in the function."
   ]
  },
  {
   "cell_type": "code",
   "execution_count": 196,
   "id": "acad6106",
   "metadata": {},
   "outputs": [
    {
     "name": "stdout",
     "output_type": "stream",
     "text": [
      "[[3 2 7 3]\n",
      " [3 6 8 2]]\n",
      "--------------------\n",
      "[[5 8 4 2]\n",
      " [3 4 2 6]]\n",
      "--------------------\n",
      "[[3 2 7 3]\n",
      " [3 6 8 2]\n",
      " [5 8 4 2]\n",
      " [3 4 2 6]]\n",
      "------------------------------\n",
      "[[3 2 7 3 5 8 4 2]\n",
      " [3 6 8 2 3 4 2 6]]\n",
      "------------------------------\n"
     ]
    }
   ],
   "source": [
    "arr1=np.random.randint(1,10,(2,4))\n",
    "arr2=np.random.randint(1,10,(2,4))\n",
    "\n",
    "print(arr1)\n",
    "print('-'*20)\n",
    "print(arr2)\n",
    "print('-'*20)\n",
    "print(np.concatenate((arr1,arr2),axis=0))\n",
    "print('-'*30)\n",
    "print(np.concatenate((arr1,arr2),axis=1))\n",
    "print('-'*30)"
   ]
  },
  {
   "cell_type": "markdown",
   "id": "31dac9a3",
   "metadata": {},
   "source": [
    "####  b) Vstack and Hstack\n",
    "numpy.hstack() function is used to stack the sequence of input arrays horizontally (i.e. column wise) to make a single array.\n",
    "\n",
    "numpy.vstack() function is used to stack the sequence of input arrays vertically to make a single array."
   ]
  },
  {
   "cell_type": "code",
   "execution_count": 200,
   "id": "b567da21",
   "metadata": {},
   "outputs": [
    {
     "name": "stdout",
     "output_type": "stream",
     "text": [
      "[[3 2 7 3 5 8 4 2]\n",
      " [3 6 8 2 3 4 2 6]]\n",
      "------------------------------\n",
      "[[3 2 7 3]\n",
      " [3 6 8 2]\n",
      " [5 8 4 2]\n",
      " [3 4 2 6]]\n"
     ]
    }
   ],
   "source": [
    "print(np.hstack((arr1,arr2)))\n",
    "print('-'*30)\n",
    "print(np.vstack((arr1,arr2)))"
   ]
  },
  {
   "cell_type": "markdown",
   "id": "b8615865",
   "metadata": {},
   "source": [
    "#### 27. Splitting arrays\n",
    "numpy.vsplit() function split an array into multiple sub-arrays vertically (row-wise). vsplit is equivalent to split with axis=0 (default), the array is always split along the first axis regardless of the array dimension.\n",
    "\n",
    "numpy.hsplit() function split an array into multiple sub-arrays horizontally (column-wise). hsplit is equivalent to split with axis=1, the array is always split along the second axis regardless of the array dimension."
   ]
  },
  {
   "cell_type": "code",
   "execution_count": 202,
   "id": "b4bfe53b",
   "metadata": {},
   "outputs": [
    {
     "name": "stdout",
     "output_type": "stream",
     "text": [
      "[[8 2 4 4]\n",
      " [6 1 8 3]\n",
      " [7 1 2 1]\n",
      " [5 7 6 7]]\n",
      "[array([[8, 2, 4, 4],\n",
      "       [6, 1, 8, 3]]), array([[7, 1, 2, 1],\n",
      "       [5, 7, 6, 7]])]\n",
      "[array([[8, 2],\n",
      "       [6, 1],\n",
      "       [7, 1],\n",
      "       [5, 7]]), array([[4, 4],\n",
      "       [8, 3],\n",
      "       [2, 1],\n",
      "       [6, 7]])]\n"
     ]
    }
   ],
   "source": [
    "arr = np.random.randint(1,10,(4,4))\n",
    "\n",
    "print(arr)\n",
    "\n",
    "print(np.vsplit(arr, 2))\n",
    "\n",
    "print(np.hsplit(arr, 2))\n",
    "\n",
    "\n"
   ]
  },
  {
   "cell_type": "markdown",
   "id": "646b836a",
   "metadata": {},
   "source": [
    "#### 28. Turning Pics into Numpy arrays\n",
    "Once we can turn this picture into an numpy array we can perform operations on that and pass the array even for some machine learning algorithms which will be benefitial for us\n",
    "\n",
    "We will be using imread function here which belongs from the matplotlib class"
   ]
  },
  {
   "cell_type": "code",
   "execution_count": 204,
   "id": "d0307056",
   "metadata": {},
   "outputs": [
    {
     "name": "stdout",
     "output_type": "stream",
     "text": [
      "[[[0.09803922 0.74509805 0.92941177]\n",
      "  [0.09803922 0.74509805 0.92941177]\n",
      "  [0.09803922 0.74509805 0.92941177]\n",
      "  ...\n",
      "  [0.09803922 0.74509805 0.92941177]\n",
      "  [0.09803922 0.74509805 0.92941177]\n",
      "  [0.09803922 0.74509805 0.92941177]]\n",
      "\n",
      " [[0.09803922 0.74509805 0.92941177]\n",
      "  [0.09803922 0.74509805 0.92941177]\n",
      "  [0.09803922 0.74509805 0.92941177]\n",
      "  ...\n",
      "  [0.09803922 0.74509805 0.92941177]\n",
      "  [0.09803922 0.74509805 0.92941177]\n",
      "  [0.09803922 0.74509805 0.92941177]]\n",
      "\n",
      " [[0.09803922 0.74509805 0.92941177]\n",
      "  [0.09803922 0.74509805 0.92941177]\n",
      "  [0.09803922 0.74509805 0.92941177]\n",
      "  ...\n",
      "  [0.09803922 0.74509805 0.92941177]\n",
      "  [0.09803922 0.74509805 0.92941177]\n",
      "  [0.09803922 0.74509805 0.92941177]]\n",
      "\n",
      " ...\n",
      "\n",
      " [[0.05882353 0.6039216  0.75686276]\n",
      "  [0.05882353 0.6039216  0.75686276]\n",
      "  [0.05882353 0.6039216  0.75686276]\n",
      "  ...\n",
      "  [0.05882353 0.6039216  0.75686276]\n",
      "  [0.05882353 0.6039216  0.75686276]\n",
      "  [0.05882353 0.6039216  0.75686276]]\n",
      "\n",
      " [[0.05882353 0.6039216  0.75686276]\n",
      "  [0.05882353 0.6039216  0.75686276]\n",
      "  [0.05882353 0.6039216  0.75686276]\n",
      "  ...\n",
      "  [0.05882353 0.6039216  0.75686276]\n",
      "  [0.05882353 0.6039216  0.75686276]\n",
      "  [0.05882353 0.6039216  0.75686276]]\n",
      "\n",
      " [[0.05882353 0.6039216  0.75686276]\n",
      "  [0.05882353 0.6039216  0.75686276]\n",
      "  [0.05882353 0.6039216  0.75686276]\n",
      "  ...\n",
      "  [0.05882353 0.6039216  0.75686276]\n",
      "  [0.05882353 0.6039216  0.75686276]\n",
      "  [0.05882353 0.6039216  0.75686276]]]\n"
     ]
    }
   ],
   "source": [
    "from matplotlib.image import imread\n",
    "img=imread('GFG.png')\n",
    "img.shape\n",
    "print(img)"
   ]
  },
  {
   "cell_type": "code",
   "execution_count": null,
   "id": "409be688",
   "metadata": {},
   "outputs": [],
   "source": []
  },
  {
   "cell_type": "code",
   "execution_count": null,
   "id": "ef231008",
   "metadata": {},
   "outputs": [],
   "source": []
  }
 ],
 "metadata": {
  "kernelspec": {
   "display_name": "Python 3 (ipykernel)",
   "language": "python",
   "name": "python3"
  },
  "language_info": {
   "codemirror_mode": {
    "name": "ipython",
    "version": 3
   },
   "file_extension": ".py",
   "mimetype": "text/x-python",
   "name": "python",
   "nbconvert_exporter": "python",
   "pygments_lexer": "ipython3",
   "version": "3.11.4"
  }
 },
 "nbformat": 4,
 "nbformat_minor": 5
}
